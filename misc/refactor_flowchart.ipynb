{
 "cells": [
  {
   "cell_type": "code",
   "execution_count": 6,
   "metadata": {},
   "outputs": [],
   "source": [
    "# %pip install ezregex"
   ]
  },
  {
   "cell_type": "code",
   "execution_count": null,
   "metadata": {},
   "outputs": [
    {
     "ename": "ModuleNotFoundError",
     "evalue": "No module named 'steps'",
     "output_type": "error",
     "traceback": [
      "\u001b[0;31m---------------------------------------------------------------------------\u001b[0m",
      "\u001b[0;31mModuleNotFoundError\u001b[0m                       Traceback (most recent call last)",
      "Cell \u001b[0;32mIn[2], line 1\u001b[0m\n\u001b[0;32m----> 1\u001b[0m \u001b[38;5;28;01mfrom\u001b[39;00m \u001b[38;5;21;01msteps\u001b[39;00m \u001b[38;5;28;01mimport\u001b[39;00m Steps\n\u001b[1;32m      2\u001b[0m \u001b[38;5;28;01mfrom\u001b[39;00m \u001b[38;5;21;01mpathlib\u001b[39;00m \u001b[38;5;28;01mimport\u001b[39;00m Path\n\u001b[1;32m      3\u001b[0m \u001b[38;5;28;01mimport\u001b[39;00m \u001b[38;5;21;01mre\u001b[39;00m\n",
      "\u001b[0;31mModuleNotFoundError\u001b[0m: No module named 'steps'"
     ]
    }
   ],
   "source": [
    "from texts import Steps\n",
    "from pathlib import Path\n",
    "import re\n",
    "from ezregex import *\n",
    "\n",
    "file = Path('work_helper_flowchart.drawio')\n",
    "new_file = Path('work_helper_flowchart_clean.drawio')\n",
    "chart = file.read_text()\n"
   ]
  },
  {
   "cell_type": "code",
   "execution_count": 8,
   "metadata": {},
   "outputs": [],
   "source": [
    "replacements = {key: val.replace('\"', \"'\") for key, val in Steps.__dict__.items() if not key.startswith('__')}"
   ]
  },
  {
   "cell_type": "code",
   "execution_count": 9,
   "metadata": {},
   "outputs": [],
   "source": [
    "for key, val in replacements.items():\n",
    "    pattern = either('[' + chunk + ']', at_least_one('{') + chunk + at_least_one('}'))\n",
    "    val = re.sub(str(pattern), '', val)\n",
    "\n",
    "    chart = chart.replace(key, val)\n",
    "\n",
    "    pattern = group('mxCell' + chunk + 'value=\"', name='i') + chunk + group('\"' + optional(chunk) + 'style=\"shape=hexagon', name='j')\n",
    "    replace_pattern =  rgroup('i') + rgroup('j')\n",
    "    chart = re.sub(str(pattern), str(replace_pattern), chart)"
   ]
  },
  {
   "cell_type": "code",
   "execution_count": 10,
   "metadata": {},
   "outputs": [
    {
     "data": {
      "text/plain": [
       "132161"
      ]
     },
     "execution_count": 10,
     "metadata": {},
     "output_type": "execute_result"
    }
   ],
   "source": [
    "new_file.write_text(chart)"
   ]
  }
 ],
 "metadata": {
  "kernelspec": {
   "display_name": "base",
   "language": "python",
   "name": "python3"
  },
  "language_info": {
   "codemirror_mode": {
    "name": "ipython",
    "version": 3
   },
   "file_extension": ".py",
   "mimetype": "text/x-python",
   "name": "python",
   "nbconvert_exporter": "python",
   "pygments_lexer": "ipython3",
   "version": "3.12.2"
  }
 },
 "nbformat": 4,
 "nbformat_minor": 2
}
