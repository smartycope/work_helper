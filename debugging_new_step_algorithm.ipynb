{
 "cells": [
  {
   "cell_type": "code",
   "execution_count": 125,
   "metadata": {},
   "outputs": [
    {
     "name": "stdout",
     "output_type": "stream",
     "text": [
      "The autoreload extension is already loaded. To reload it, use:\n",
      "  %reload_ext autoreload\n"
     ]
    }
   ],
   "source": [
    "%load_ext autoreload\n",
    "%autoreload 2"
   ]
  },
  {
   "cell_type": "code",
   "execution_count": 126,
   "metadata": {},
   "outputs": [
    {
     "data": {
      "text/plain": [
       "['', 42, 'hello']"
      ]
     },
     "execution_count": 126,
     "metadata": {},
     "output_type": "execute_result"
    }
   ],
   "source": [
    "import dis\n",
    "\n",
    "def get_literal_returns(func):\n",
    "    rtn = []\n",
    "    for instr in dis.Bytecode(func):\n",
    "        if instr.opname == \"RETURN_CONST\":\n",
    "            rtn.append(instr.argval)\n",
    "        elif instr.opname == \"RETURN_VALUE\":\n",
    "            rtn.append(instr.argrepr)\n",
    "\n",
    "    return rtn\n",
    "\n",
    "def example(a=True):\n",
    "    if a == 2:\n",
    "        return a\n",
    "\n",
    "    if a:\n",
    "        return 42\n",
    "    else:\n",
    "        return \"hello\"\n",
    "\n",
    "get_literal_returns(example)  # Returns ['', 42, 'hello'], but I want it to return ['a', 42, 'hello']\n"
   ]
  },
  {
   "cell_type": "code",
   "execution_count": 127,
   "metadata": {},
   "outputs": [
    {
     "data": {
      "text/plain": [
       "[8]"
      ]
     },
     "execution_count": 127,
     "metadata": {},
     "output_type": "execute_result"
    }
   ],
   "source": [
    "import dis\n",
    "\n",
    "def get_literal_returns(func):\n",
    "    rtn = []\n",
    "    stack = []  # Tracks last loaded values\n",
    "\n",
    "    for instr in dis.Bytecode(func):\n",
    "        if instr.opname in {\"LOAD_FAST\", \"LOAD_GLOBAL\"}:  # Variable names\n",
    "            stack.append(instr.argval)\n",
    "        elif instr.opname == \"LOAD_CONST\":  # Literals\n",
    "            stack.append(instr.argval)\n",
    "        elif instr.opname == \"RETURN_VALUE\":\n",
    "            if stack:  # Use last loaded value (var name or literal)\n",
    "                rtn.append(stack[-1])\n",
    "        elif instr.opname == \"RETURN_CONST\":\n",
    "            rtn.append(instr.argval)\n",
    "\n",
    "    return rtn\n",
    "\n",
    "def example(a=True):\n",
    "    if a == 2:\n",
    "        return a  # Should capture 'a'\n",
    "\n",
    "    if a:\n",
    "        return 42  # Should capture 42\n",
    "    else:\n",
    "        return \"hello\"  # Should capture \"hello\"\n",
    "\n",
    "get_literal_returns(example)  # Output: ['a', 42, 'hello']\n",
    "# get_literal_returns(lambda: 8)  # Output: ['a', 42, 'hello']\n",
    "get_literal_returns(lambda: 8)  # Output: ['a', 42, 'hello']\n"
   ]
  },
  {
   "cell_type": "code",
   "execution_count": 129,
   "metadata": {},
   "outputs": [],
   "source": [
    "# print(dis.Bytecode(TestGraph().do_the_thing).dis())\n",
    "from step_algorithm_v2 import StepsController\n",
    "\n",
    "\n",
    "# for i in list(dis.Bytecode(StepsController().screwdriver__labels)):\n",
    "    # print(i)\n",
    "# print(dis.Bytecode(function).info())"
   ]
  },
  {
   "cell_type": "code",
   "execution_count": null,
   "metadata": {},
   "outputs": [
    {
     "ename": "AttributeError",
     "evalue": "type object 'StepsController' has no attribute 'get_returns'",
     "output_type": "error",
     "traceback": [
      "\u001b[0;31m---------------------------------------------------------------------------\u001b[0m",
      "\u001b[0;31mAttributeError\u001b[0m                            Traceback (most recent call last)",
      "Cell \u001b[0;32mIn[130], line 1\u001b[0m\n\u001b[0;32m----> 1\u001b[0m \u001b[43mStepsController\u001b[49m\u001b[38;5;241;43m.\u001b[39;49m\u001b[43mget_returns\u001b[49m(StepsController()\u001b[38;5;241m.\u001b[39mconfirm_ids)\n",
      "\u001b[0;31mAttributeError\u001b[0m: type object 'StepsController' has no attribute 'get_returns'"
     ]
    }
   ],
   "source": [
    "# StepsController.get_returns(StepsController().confirm_ids)"
   ]
  },
  {
   "cell_type": "code",
   "execution_count": 133,
   "metadata": {},
   "outputs": [],
   "source": [
    "from DynamicStateMachine import ExampleMachine"
   ]
  },
  {
   "cell_type": "code",
   "execution_count": null,
   "metadata": {},
   "outputs": [
    {
     "name": "stdout",
     "output_type": "stream",
     "text": [
      "Starting...\n",
      "Now in state a... done\n",
      "Now in state b... Deciding...\n",
      "Decided on c\n",
      "done\n",
      "Now in state pre_c, but not for long... done\n",
      "Now in state c... done\n",
      "Deciding if done...\n",
      "Decided we're not done\n",
      "Now in state a... done\n",
      "Now in state b... Deciding...\n",
      "Decided on a\n",
      "done\n",
      "Now in state a... done\n",
      "Now in state b... Deciding...\n",
      "Decided on a\n",
      "done\n",
      "Now in state a... "
     ]
    },
    {
     "data": {
      "image/svg+xml": [
       "<?xml version=\"1.0\" encoding=\"UTF-8\" standalone=\"no\"?>\n",
       "<!DOCTYPE svg PUBLIC \"-//W3C//DTD SVG 1.1//EN\"\n",
       " \"http://www.w3.org/Graphics/SVG/1.1/DTD/svg11.dtd\">\n",
       "<!-- Generated by graphviz version 2.43.0 (0)\n",
       " -->\n",
       "<!-- Title: %3 Pages: 1 -->\n",
       "<svg width=\"427pt\" height=\"593pt\"\n",
       " viewBox=\"0.00 0.00 427.27 593.00\" xmlns=\"http://www.w3.org/2000/svg\" xmlns:xlink=\"http://www.w3.org/1999/xlink\">\n",
       "<g id=\"graph0\" class=\"graph\" transform=\"scale(1 1) rotate(0) translate(4 589)\">\n",
       "<title>%3</title>\n",
       "<polygon fill=\"white\" stroke=\"transparent\" points=\"-4,4 -4,-589 423.27,-589 423.27,4 -4,4\"/>\n",
       "<!-- Start -->\n",
       "<g id=\"node1\" class=\"node\">\n",
       "<title>Start</title>\n",
       "<polygon fill=\"none\" stroke=\"black\" points=\"126.27,-585 72.27,-585 72.27,-549 126.27,-549 126.27,-585\"/>\n",
       "<text text-anchor=\"middle\" x=\"99.27\" y=\"-563.3\" font-family=\"Times,serif\" font-size=\"14.00\">Start</text>\n",
       "</g>\n",
       "<!-- a -->\n",
       "<g id=\"node2\" class=\"node\">\n",
       "<title>a</title>\n",
       "<polygon fill=\"none\" stroke=\"black\" points=\"126.27,-512 72.27,-512 72.27,-476 126.27,-476 126.27,-512\"/>\n",
       "<text text-anchor=\"middle\" x=\"99.27\" y=\"-490.3\" font-family=\"Times,serif\" font-size=\"14.00\">a</text>\n",
       "</g>\n",
       "<!-- Start&#45;&gt;a -->\n",
       "<g id=\"edge1\" class=\"edge\">\n",
       "<title>Start&#45;&gt;a</title>\n",
       "<path fill=\"none\" stroke=\"black\" d=\"M99.27,-548.81C99.27,-540.79 99.27,-531.05 99.27,-522.07\"/>\n",
       "<polygon fill=\"black\" stroke=\"black\" points=\"102.77,-522.03 99.27,-512.03 95.77,-522.03 102.77,-522.03\"/>\n",
       "</g>\n",
       "<!-- b -->\n",
       "<g id=\"node3\" class=\"node\">\n",
       "<title>b</title>\n",
       "<polygon fill=\"none\" stroke=\"black\" points=\"63.27,-439 9.27,-439 9.27,-403 63.27,-403 63.27,-439\"/>\n",
       "<text text-anchor=\"middle\" x=\"36.27\" y=\"-417.3\" font-family=\"Times,serif\" font-size=\"14.00\">b</text>\n",
       "</g>\n",
       "<!-- a&#45;&gt;b -->\n",
       "<g id=\"edge2\" class=\"edge\">\n",
       "<title>a&#45;&gt;b</title>\n",
       "<path fill=\"none\" stroke=\"black\" d=\"M84.02,-475.81C76.28,-467.09 66.74,-456.34 58.23,-446.75\"/>\n",
       "<polygon fill=\"black\" stroke=\"black\" points=\"60.63,-444.19 51.38,-439.03 55.4,-448.83 60.63,-444.19\"/>\n",
       "</g>\n",
       "<!-- do_the_thing -->\n",
       "<g id=\"node4\" class=\"node\">\n",
       "<title>do_the_thing</title>\n",
       "<polygon fill=\"none\" stroke=\"black\" points=\"99.27,-366 0.23,-348 99.27,-330 198.31,-348 99.27,-366\"/>\n",
       "<text text-anchor=\"middle\" x=\"99.27\" y=\"-344.3\" font-family=\"Times,serif\" font-size=\"14.00\">do_the_thing</text>\n",
       "</g>\n",
       "<!-- b&#45;&gt;do_the_thing -->\n",
       "<g id=\"edge3\" class=\"edge\">\n",
       "<title>b&#45;&gt;do_the_thing</title>\n",
       "<path fill=\"none\" stroke=\"black\" d=\"M51.52,-402.81C59.8,-393.49 70.13,-381.84 79.07,-371.77\"/>\n",
       "<polygon fill=\"black\" stroke=\"black\" points=\"81.85,-373.9 85.87,-364.1 76.61,-369.26 81.85,-373.9\"/>\n",
       "</g>\n",
       "<!-- do_the_thing&#45;&gt;a -->\n",
       "<g id=\"edge4\" class=\"edge\">\n",
       "<title>do_the_thing&#45;&gt;a</title>\n",
       "<path fill=\"none\" stroke=\"black\" d=\"M99.27,-366.06C99.27,-390.62 99.27,-436.21 99.27,-465.55\"/>\n",
       "<polygon fill=\"black\" stroke=\"black\" points=\"95.77,-465.92 99.27,-475.92 102.77,-465.92 95.77,-465.92\"/>\n",
       "<text text-anchor=\"middle\" x=\"160.27\" y=\"-417.3\" font-family=\"Times,serif\" font-size=\"14.00\">if decider is True</text>\n",
       "</g>\n",
       "<!-- pre_c -->\n",
       "<g id=\"node5\" class=\"node\">\n",
       "<title>pre_c</title>\n",
       "<polygon fill=\"none\" stroke=\"black\" points=\"197.77,-279 142.77,-279 142.77,-243 197.77,-243 197.77,-279\"/>\n",
       "<text text-anchor=\"middle\" x=\"170.27\" y=\"-257.3\" font-family=\"Times,serif\" font-size=\"14.00\">pre_c</text>\n",
       "</g>\n",
       "<!-- do_the_thing&#45;&gt;pre_c -->\n",
       "<g id=\"edge5\" class=\"edge\">\n",
       "<title>do_the_thing&#45;&gt;pre_c</title>\n",
       "<path fill=\"none\" stroke=\"black\" d=\"M111.64,-332.19C122.03,-319.75 137.1,-301.7 149.37,-287.02\"/>\n",
       "<polygon fill=\"black\" stroke=\"black\" points=\"152.12,-289.19 155.84,-279.27 146.75,-284.7 152.12,-289.19\"/>\n",
       "</g>\n",
       "<!-- c -->\n",
       "<g id=\"node6\" class=\"node\">\n",
       "<title>c</title>\n",
       "<polygon fill=\"none\" stroke=\"black\" points=\"221.27,-206 167.27,-206 167.27,-170 221.27,-170 221.27,-206\"/>\n",
       "<text text-anchor=\"middle\" x=\"194.27\" y=\"-184.3\" font-family=\"Times,serif\" font-size=\"14.00\">c</text>\n",
       "</g>\n",
       "<!-- pre_c&#45;&gt;c -->\n",
       "<g id=\"edge6\" class=\"edge\">\n",
       "<title>pre_c&#45;&gt;c</title>\n",
       "<path fill=\"none\" stroke=\"black\" d=\"M176.08,-242.81C178.82,-234.7 182.16,-224.84 185.22,-215.78\"/>\n",
       "<polygon fill=\"black\" stroke=\"black\" points=\"188.63,-216.62 188.51,-206.03 181.99,-214.38 188.63,-216.62\"/>\n",
       "</g>\n",
       "<!-- decide_if_done -->\n",
       "<g id=\"node7\" class=\"node\">\n",
       "<title>decide_if_done</title>\n",
       "<polygon fill=\"none\" stroke=\"black\" points=\"221.27,-133 109.83,-115 221.27,-97 332.71,-115 221.27,-133\"/>\n",
       "<text text-anchor=\"middle\" x=\"221.27\" y=\"-111.3\" font-family=\"Times,serif\" font-size=\"14.00\">decide_if_done</text>\n",
       "</g>\n",
       "<!-- c&#45;&gt;decide_if_done -->\n",
       "<g id=\"edge7\" class=\"edge\">\n",
       "<title>c&#45;&gt;decide_if_done</title>\n",
       "<path fill=\"none\" stroke=\"black\" d=\"M200.8,-169.81C204.01,-161.37 207.95,-151.03 211.5,-141.68\"/>\n",
       "<polygon fill=\"black\" stroke=\"black\" points=\"214.88,-142.65 215.16,-132.06 208.34,-140.16 214.88,-142.65\"/>\n",
       "</g>\n",
       "<!-- decide_if_done&#45;&gt;a -->\n",
       "<g id=\"edge9\" class=\"edge\">\n",
       "<title>decide_if_done&#45;&gt;a</title>\n",
       "<path fill=\"none\" stroke=\"black\" d=\"M231.38,-131.66C239.4,-145.61 249.27,-166.86 249.27,-187 249.27,-422 249.27,-422 249.27,-422 249.27,-471.75 181.04,-486.69 136.61,-491.14\"/>\n",
       "<polygon fill=\"black\" stroke=\"black\" points=\"136.09,-487.67 126.43,-492.02 136.7,-494.65 136.09,-487.67\"/>\n",
       "<text text-anchor=\"middle\" x=\"302.27\" y=\"-300.8\" font-family=\"Times,serif\" font-size=\"14.00\">no keep going!</text>\n",
       "</g>\n",
       "<!-- End0 -->\n",
       "<g id=\"node8\" class=\"node\">\n",
       "<title>End0</title>\n",
       "<polygon fill=\"none\" stroke=\"black\" points=\"221.27,-46 162.78,-11.5 279.76,-11.5 221.27,-46\"/>\n",
       "<text text-anchor=\"middle\" x=\"221.27\" y=\"-19.3\" font-family=\"Times,serif\" font-size=\"14.00\">End</text>\n",
       "</g>\n",
       "<!-- decide_if_done&#45;&gt;End0 -->\n",
       "<g id=\"edge8\" class=\"edge\">\n",
       "<title>decide_if_done&#45;&gt;End0</title>\n",
       "<path fill=\"none\" stroke=\"black\" d=\"M221.27,-96.65C221.27,-85.17 221.27,-69.77 221.27,-56.11\"/>\n",
       "<polygon fill=\"black\" stroke=\"black\" points=\"224.77,-56.09 221.27,-46.09 217.77,-56.09 224.77,-56.09\"/>\n",
       "<text text-anchor=\"middle\" x=\"320.27\" y=\"-67.8\" font-family=\"Times,serif\" font-size=\"14.00\">Im done talking to you now.</text>\n",
       "</g>\n",
       "</g>\n",
       "</svg>\n"
      ],
      "text/plain": [
       "<graphviz.graphs.Digraph at 0x7fab64141070>"
      ]
     },
     "execution_count": 135,
     "metadata": {},
     "output_type": "execute_result"
    }
   ],
   "source": [
    "g = ExampleMachine()\n",
    "g.next()\n",
    "g.next(False)\n",
    "g.next(False)\n",
    "next(g)\n",
    "next(g)\n",
    "next(g)\n",
    "next(g)\n",
    "\n",
    "g.construct_graphvis()"
   ]
  },
  {
   "cell_type": "code",
   "execution_count": 148,
   "metadata": {},
   "outputs": [
    {
     "data": {
      "text/plain": [
       "'/home/zeke/hello/DynamicStateMachine/example_graph.png.png'"
      ]
     },
     "execution_count": 148,
     "metadata": {},
     "output_type": "execute_result"
    },
    {
     "name": "stderr",
     "output_type": "stream",
     "text": [
      "inotify_add_watch(/home/zeke/.config/fcitx/dbus) failed: (No space left on device)\n",
      "inotify_add_watch(/home/zeke/.config/fcitx/dbus/f52def6b4f10425f8f92fd34a2dce53f-0) failed: (No space left on device)\n"
     ]
    }
   ],
   "source": [
    "img_path = \"/home/zeke/hello/DynamicStateMachine/example_graph.png\"\n",
    "g.construct_graphvis(graph_attrs=dict(format='png')).view(img_path)"
   ]
  },
  {
   "cell_type": "code",
   "execution_count": null,
   "metadata": {},
   "outputs": [
    {
     "name": "stdout",
     "output_type": "stream",
     "text": [
      "Starting...\n",
      "Now in state a... done\n",
      "Now in state b... Deciding...\n",
      "Decided on c\n",
      "done\n",
      "Now in state pre_c, but not for long... done\n",
      "Now in state c... done\n",
      "Deciding if done...\n",
      "Decided we're not done\n",
      "Now in state a... done\n",
      "Now in state b... Deciding...\n",
      "Decided on a\n",
      "done\n",
      "Now in state a... done\n",
      "Now in state b... Deciding...\n",
      "Decided on c\n",
      "done\n",
      "Now in state pre_c, but not for long... done\n",
      "Now in state c... done\n",
      "Deciding if done...\n",
      "Decided we're done\n",
      "Finished!\n"
     ]
    }
   ],
   "source": [
    "from DynamicStateMachine import ExampleMachine\n",
    "m = ExampleMachine()\n",
    "# Starting...\n",
    "m.next()      # a -> b\n",
    "m.next(False) # b -> c\n",
    "m.next(False) # c -> a\n",
    "next(m)       # a -> b\n",
    "m.next(True)  # b -> a\n",
    "next(m)       # a -> b\n",
    "m.next(False) # b -> c\n",
    "m.next(True)  # c -> None\n",
    "# Finished!\n"
   ]
  },
  {
   "cell_type": "code",
   "execution_count": null,
   "metadata": {},
   "outputs": [
    {
     "name": "stdout",
     "output_type": "stream",
     "text": [
      "Starting...\n",
      "Now in state a... "
     ]
    },
    {
     "data": {
      "image/svg+xml": [
       "<?xml version=\"1.0\" encoding=\"UTF-8\" standalone=\"no\"?>\n",
       "<!DOCTYPE svg PUBLIC \"-//W3C//DTD SVG 1.1//EN\"\n",
       " \"http://www.w3.org/Graphics/SVG/1.1/DTD/svg11.dtd\">\n",
       "<!-- Generated by graphviz version 2.43.0 (0)\n",
       " -->\n",
       "<!-- Title: %3 Pages: 1 -->\n",
       "<svg width=\"415pt\" height=\"732pt\"\n",
       " viewBox=\"0.00 0.00 415.19 731.67\" xmlns=\"http://www.w3.org/2000/svg\" xmlns:xlink=\"http://www.w3.org/1999/xlink\">\n",
       "<g id=\"graph0\" class=\"graph\" transform=\"scale(1 1) rotate(0) translate(4 727.67)\">\n",
       "<title>%3</title>\n",
       "<polygon fill=\"white\" stroke=\"transparent\" points=\"-4,4 -4,-727.67 411.19,-727.67 411.19,4 -4,4\"/>\n",
       "<!-- Start -->\n",
       "<g id=\"node1\" class=\"node\">\n",
       "<title>Start</title>\n",
       "<polygon fill=\"none\" stroke=\"black\" points=\"80.19,-517.03 26.19,-517.03 26.19,-481.03 80.19,-481.03 80.19,-517.03\"/>\n",
       "<text text-anchor=\"middle\" x=\"53.19\" y=\"-495.33\" font-family=\"Times,serif\" font-size=\"14.00\">Start</text>\n",
       "</g>\n",
       "<!-- a -->\n",
       "<g id=\"node2\" class=\"node\">\n",
       "<title>a</title>\n",
       "<polygon fill=\"none\" stroke=\"black\" points=\"97.19,-364.39 43.19,-364.39 43.19,-328.39 97.19,-328.39 97.19,-364.39\"/>\n",
       "<text text-anchor=\"middle\" x=\"70.19\" y=\"-342.69\" font-family=\"Times,serif\" font-size=\"14.00\">a</text>\n",
       "</g>\n",
       "<!-- Start&#45;&gt;a -->\n",
       "<g id=\"edge1\" class=\"edge\">\n",
       "<title>Start&#45;&gt;a</title>\n",
       "<path fill=\"none\" stroke=\"black\" d=\"M55.14,-480.75C58.08,-454.76 63.65,-405.36 67.13,-374.53\"/>\n",
       "<polygon fill=\"black\" stroke=\"black\" points=\"70.62,-374.8 68.27,-364.47 63.67,-374.01 70.62,-374.8\"/>\n",
       "</g>\n",
       "<!-- b -->\n",
       "<g id=\"node3\" class=\"node\">\n",
       "<title>b</title>\n",
       "<polygon fill=\"none\" stroke=\"black\" points=\"66.19,-286.39 12.19,-286.39 12.19,-250.39 66.19,-250.39 66.19,-286.39\"/>\n",
       "<text text-anchor=\"middle\" x=\"39.19\" y=\"-264.69\" font-family=\"Times,serif\" font-size=\"14.00\">b</text>\n",
       "</g>\n",
       "<!-- a&#45;&gt;b -->\n",
       "<g id=\"edge2\" class=\"edge\">\n",
       "<title>a&#45;&gt;b</title>\n",
       "<path fill=\"none\" stroke=\"black\" d=\"M63.16,-328.14C59.28,-318.62 54.37,-306.59 50.01,-295.9\"/>\n",
       "<polygon fill=\"black\" stroke=\"black\" points=\"53.22,-294.5 46.2,-286.56 46.74,-297.15 53.22,-294.5\"/>\n",
       "</g>\n",
       "<!-- do_the_thing -->\n",
       "<g id=\"node4\" class=\"node\">\n",
       "<title>do_the_thing</title>\n",
       "<ellipse fill=\"none\" stroke=\"black\" cx=\"70.19\" cy=\"-143.19\" rx=\"70.39\" ry=\"70.39\"/>\n",
       "<text text-anchor=\"middle\" x=\"70.19\" y=\"-139.49\" font-family=\"Times,serif\" font-size=\"14.00\">do_the_thing</text>\n",
       "</g>\n",
       "<!-- b&#45;&gt;do_the_thing -->\n",
       "<g id=\"edge3\" class=\"edge\">\n",
       "<title>b&#45;&gt;do_the_thing</title>\n",
       "<path fill=\"none\" stroke=\"black\" d=\"M43.5,-250.26C45.5,-242.31 48.04,-232.25 50.74,-221.5\"/>\n",
       "<polygon fill=\"black\" stroke=\"black\" points=\"54.21,-222.04 53.26,-211.48 47.43,-220.33 54.21,-222.04\"/>\n",
       "</g>\n",
       "<!-- do_the_thing&#45;&gt;a -->\n",
       "<g id=\"edge4\" class=\"edge\">\n",
       "<title>do_the_thing&#45;&gt;a</title>\n",
       "<path fill=\"none\" stroke=\"black\" d=\"M74.77,-213.27C75.74,-236.51 76.2,-262.57 75.19,-286.39 74.75,-296.8 73.88,-308.21 72.98,-318.2\"/>\n",
       "<polygon fill=\"black\" stroke=\"black\" points=\"69.48,-318.09 72.02,-328.37 76.45,-318.75 69.48,-318.09\"/>\n",
       "<text text-anchor=\"middle\" x=\"137.19\" y=\"-264.69\" font-family=\"Times,serif\" font-size=\"14.00\">if decider is True</text>\n",
       "</g>\n",
       "<!-- pre_c0 -->\n",
       "<g id=\"node5\" class=\"node\">\n",
       "<title>pre_c0</title>\n",
       "<polygon fill=\"none\" stroke=\"black\" points=\"97.69,-36 42.69,-36 42.69,0 97.69,0 97.69,-36\"/>\n",
       "<text text-anchor=\"middle\" x=\"70.19\" y=\"-14.3\" font-family=\"Times,serif\" font-size=\"14.00\">pre_c</text>\n",
       "</g>\n",
       "<!-- do_the_thing&#45;&gt;pre_c0 -->\n",
       "<g id=\"edge5\" class=\"edge\">\n",
       "<title>do_the_thing&#45;&gt;pre_c0</title>\n",
       "<path fill=\"none\" stroke=\"black\" d=\"M70.19,-72.68C70.19,-63.37 70.19,-54.31 70.19,-46.36\"/>\n",
       "<polygon fill=\"black\" stroke=\"black\" points=\"73.69,-46.3 70.19,-36.3 66.69,-46.3 73.69,-46.3\"/>\n",
       "</g>\n",
       "<!-- pre_c -->\n",
       "<g id=\"node6\" class=\"node\">\n",
       "<title>pre_c</title>\n",
       "<polygon fill=\"none\" stroke=\"black\" points=\"223.69,-723.67 168.69,-723.67 168.69,-687.67 223.69,-687.67 223.69,-723.67\"/>\n",
       "<text text-anchor=\"middle\" x=\"196.19\" y=\"-701.97\" font-family=\"Times,serif\" font-size=\"14.00\">pre_c</text>\n",
       "</g>\n",
       "<!-- c -->\n",
       "<g id=\"node7\" class=\"node\">\n",
       "<title>c</title>\n",
       "<polygon fill=\"none\" stroke=\"black\" points=\"223.19,-650.67 169.19,-650.67 169.19,-614.67 223.19,-614.67 223.19,-650.67\"/>\n",
       "<text text-anchor=\"middle\" x=\"196.19\" y=\"-628.97\" font-family=\"Times,serif\" font-size=\"14.00\">c</text>\n",
       "</g>\n",
       "<!-- pre_c&#45;&gt;c -->\n",
       "<g id=\"edge6\" class=\"edge\">\n",
       "<title>pre_c&#45;&gt;c</title>\n",
       "<path fill=\"none\" stroke=\"black\" d=\"M196.19,-687.49C196.19,-679.46 196.19,-669.72 196.19,-660.74\"/>\n",
       "<polygon fill=\"black\" stroke=\"black\" points=\"199.69,-660.7 196.19,-650.7 192.69,-660.7 199.69,-660.7\"/>\n",
       "</g>\n",
       "<!-- decide_if_done -->\n",
       "<g id=\"node8\" class=\"node\">\n",
       "<title>decide_if_done</title>\n",
       "<ellipse fill=\"none\" stroke=\"black\" cx=\"196.19\" cy=\"-499.03\" rx=\"78.79\" ry=\"78.79\"/>\n",
       "<text text-anchor=\"middle\" x=\"196.19\" y=\"-495.33\" font-family=\"Times,serif\" font-size=\"14.00\">decide_if_done</text>\n",
       "</g>\n",
       "<!-- c&#45;&gt;decide_if_done -->\n",
       "<g id=\"edge7\" class=\"edge\">\n",
       "<title>c&#45;&gt;decide_if_done</title>\n",
       "<path fill=\"none\" stroke=\"black\" d=\"M196.19,-614.46C196.19,-607.09 196.19,-597.89 196.19,-587.91\"/>\n",
       "<polygon fill=\"black\" stroke=\"black\" points=\"199.69,-587.73 196.19,-577.73 192.69,-587.73 199.69,-587.73\"/>\n",
       "</g>\n",
       "<!-- decide_if_done&#45;&gt;a -->\n",
       "<g id=\"edge9\" class=\"edge\">\n",
       "<title>decide_if_done&#45;&gt;a</title>\n",
       "<path fill=\"none\" stroke=\"black\" d=\"M137.16,-446.55C123.43,-432.98 109.53,-417.8 98.19,-402.39 91.79,-393.68 86.08,-383.28 81.51,-373.89\"/>\n",
       "<polygon fill=\"black\" stroke=\"black\" points=\"84.58,-372.17 77.19,-364.58 78.23,-375.12 84.58,-372.17\"/>\n",
       "<text text-anchor=\"middle\" x=\"151.19\" y=\"-391.19\" font-family=\"Times,serif\" font-size=\"14.00\">no keep going!</text>\n",
       "</g>\n",
       "<!-- End0 -->\n",
       "<g id=\"node9\" class=\"node\">\n",
       "<title>End0</title>\n",
       "<polygon fill=\"none\" stroke=\"black\" points=\"215.19,-369.39 156.7,-334.89 273.68,-334.89 215.19,-369.39\"/>\n",
       "<text text-anchor=\"middle\" x=\"215.19\" y=\"-342.69\" font-family=\"Times,serif\" font-size=\"14.00\">End</text>\n",
       "</g>\n",
       "<!-- decide_if_done&#45;&gt;End0 -->\n",
       "<g id=\"edge8\" class=\"edge\">\n",
       "<title>decide_if_done&#45;&gt;End0</title>\n",
       "<path fill=\"none\" stroke=\"black\" d=\"M205.92,-420.94C207.82,-405.83 209.72,-390.8 211.29,-378.32\"/>\n",
       "<polygon fill=\"black\" stroke=\"black\" points=\"214.81,-378.41 212.59,-368.05 207.86,-377.54 214.81,-378.41\"/>\n",
       "<text text-anchor=\"middle\" x=\"308.19\" y=\"-391.19\" font-family=\"Times,serif\" font-size=\"14.00\">Im done talking to you now.</text>\n",
       "</g>\n",
       "</g>\n",
       "</svg>\n"
      ],
      "text/plain": [
       "<graphviz.graphs.Digraph at 0x7fab64fa27e0>"
      ]
     },
     "execution_count": 113,
     "metadata": {},
     "output_type": "execute_result"
    }
   ],
   "source": [
    "ExampleMachine().construct_graphvis(\n",
    "    use_names=True,\n",
    "    disconnect_virtual=True,\n",
    "    split_ends=True,\n",
    ")"
   ]
  },
  {
   "cell_type": "code",
   "execution_count": null,
   "metadata": {},
   "outputs": [
    {
     "name": "stdout",
     "output_type": "stream",
     "text": [
      " 13           0 RESUME                   0\n",
      "\n",
      " 14           2 LOAD_FAST                0 (a)\n",
      "              4 RETURN_VALUE\n",
      "\n",
      "------------------------------------------------------------------------------------------\n",
      " 16           0 RESUME                   0\n",
      "\n",
      " 17           2 LOAD_FAST                0 (a)\n",
      "              4 RETURN_VALUE\n",
      "\n"
     ]
    },
    {
     "data": {
      "text/plain": [
       "False"
      ]
     },
     "execution_count": 40,
     "metadata": {},
     "output_type": "execute_result"
    }
   ],
   "source": [
    "import ast, dis\n",
    "\n",
    "code = \"\"\"\n",
    "def test(a):\n",
    "    return a\n",
    "\"\"\"\n",
    "code2 = \"\"\"\n",
    "def test(a):\n",
    "    ''' comment! '''\n",
    "    return a\n",
    "\"\"\"\n",
    "\n",
    "def test(a):\n",
    "    return a\n",
    "\n",
    "def test2(a):\n",
    "    return a\n",
    "    \"\"\" comment! \"\"\"\n",
    "\n",
    "\n",
    "a = dis.Bytecode(test)\n",
    "b = dis.Bytecode(test2)\n",
    "\n",
    "print(a.dis())\n",
    "print('---'*30)\n",
    "print(b.dis())\n",
    "a == b"
   ]
  },
  {
   "cell_type": "code",
   "execution_count": null,
   "metadata": {},
   "outputs": [
    {
     "name": "stdout",
     "output_type": "stream",
     "text": [
      "Module(\n",
      "    body=[\n",
      "        FunctionDef(\n",
      "            name='test',\n",
      "            args=arguments(\n",
      "                posonlyargs=[],\n",
      "                args=[\n",
      "                    arg(arg='a')],\n",
      "                kwonlyargs=[],\n",
      "                kw_defaults=[],\n",
      "                defaults=[]),\n",
      "            body=[\n",
      "                Return(\n",
      "                    value=Name(id='a', ctx=Load()))],\n",
      "            decorator_list=[],\n",
      "            type_params=[])],\n",
      "    type_ignores=[])\n",
      "------------------------------------------------------------\n",
      "Module(\n",
      "    body=[\n",
      "        FunctionDef(\n",
      "            name='test',\n",
      "            args=arguments(\n",
      "                posonlyargs=[],\n",
      "                args=[\n",
      "                    arg(arg='a')],\n",
      "                kwonlyargs=[],\n",
      "                kw_defaults=[],\n",
      "                defaults=[]),\n",
      "            body=[\n",
      "                Expr(\n",
      "                    value=Constant(value=' comment! ')),\n",
      "                Return(\n",
      "                    value=Name(id='a', ctx=Load()))],\n",
      "            decorator_list=[],\n",
      "            type_params=[])],\n",
      "    type_ignores=[])\n"
     ]
    }
   ],
   "source": [
    "import ast, dis\n",
    "\n",
    "code = \"\"\"\n",
    "def test(a):\n",
    "    return a\n",
    "\"\"\"\n",
    "code2 = \"\"\"\n",
    "def test(a):\n",
    "    ''' comment! '''\n",
    "    return a\n",
    "\"\"\"\n",
    "\n",
    "def test(a):\n",
    "    return a\n",
    "\n",
    "def test2(a):\n",
    "    return a\n",
    "    \"\"\" comment! \"\"\"\n",
    "\n",
    "a = ast.parse(code)\n",
    "b = ast.parse(code2)\n",
    "\n",
    "print(ast.dump(a, indent=4))\n",
    "print('-'*60)\n",
    "print(ast.dump(b, indent=4))"
   ]
  },
  {
   "cell_type": "code",
   "execution_count": null,
   "metadata": {},
   "outputs": [
    {
     "name": "stdout",
     "output_type": "stream",
     "text": [
      "['a', 42, 'hello']\n"
     ]
    },
    {
     "ename": "IndentationError",
     "evalue": "unexpected indent (<unknown>, line 1)",
     "output_type": "error",
     "traceback": [
      "Traceback \u001b[0;36m(most recent call last)\u001b[0m:\n",
      "\u001b[0m  File \u001b[1;32m~/Software/miniconda3/lib/python3.12/site-packages/IPython/core/interactiveshell.py:3577\u001b[0m in \u001b[1;35mrun_code\u001b[0m\n    exec(code_obj, self.user_global_ns, self.user_ns)\u001b[0m\n",
      "\u001b[0m  Cell \u001b[1;32mIn[47], line 48\u001b[0m\n    print(get_literal_returns(lambda_example()))  # Output: ['other']\u001b[0m\n",
      "\u001b[0m  Cell \u001b[1;32mIn[47], line 28\u001b[0m in \u001b[1;35mget_literal_returns\u001b[0m\n    tree = ast.parse(source)\u001b[0m\n",
      "\u001b[0;36m  File \u001b[0;32m~/Software/miniconda3/lib/python3.12/ast.py:52\u001b[0;36m in \u001b[0;35mparse\u001b[0;36m\n\u001b[0;31m    return compile(source, filename, mode, flags,\u001b[0;36m\n",
      "\u001b[0;36m  File \u001b[0;32m<unknown>:1\u001b[0;36m\u001b[0m\n\u001b[0;31m    return lambda: other\u001b[0m\n\u001b[0m    ^\u001b[0m\n\u001b[0;31mIndentationError\u001b[0m\u001b[0;31m:\u001b[0m unexpected indent\n"
     ]
    }
   ],
   "source": [
    "import ast\n",
    "import inspect\n",
    "\n",
    "class ReturnVisitor(ast.NodeVisitor):\n",
    "    def __init__(self):\n",
    "        self.returns = []\n",
    "\n",
    "    def visit_Return(self, node):\n",
    "        \"\"\"Handles return statements in regular functions.\"\"\"\n",
    "        self.returns.append(self.extract_value(node.value))\n",
    "\n",
    "    def visit_Lambda(self, node):\n",
    "        \"\"\"Handles implicit return values in lambdas.\"\"\"\n",
    "        self.returns.append(self.extract_value(node.body))\n",
    "\n",
    "    def extract_value(self, node):\n",
    "        \"\"\"Extracts literals or variable names from AST nodes.\"\"\"\n",
    "        if isinstance(node, ast.Constant):  # Literal values (numbers, strings, etc.)\n",
    "            return node.value\n",
    "        elif isinstance(node, ast.Name):  # Variables\n",
    "            return node.id\n",
    "        elif isinstance(node, ast.Call):  # Function calls (not handled)\n",
    "            return f\"<call to {node.func.id}>\"\n",
    "        return \"<unknown>\"\n",
    "\n",
    "def get_literal_returns(func):\n",
    "    source = inspect.getsource(func)\n",
    "    tree = ast.parse(source)\n",
    "    visitor = ReturnVisitor()\n",
    "    visitor.visit(tree)\n",
    "    return visitor.returns\n",
    "\n",
    "# Example with a regular function\n",
    "def example(a=True):\n",
    "    if a == 2:\n",
    "        return a\n",
    "    if a:\n",
    "        return 42\n",
    "    else:\n",
    "        return \"hello\"\n",
    "\n",
    "# Example with a lambda\n",
    "def lambda_example():\n",
    "    other = 99\n",
    "    return lambda: other\n",
    "\n",
    "print(get_literal_returns(example))        # Output: ['a', 42, 'hello']\n",
    "# print(get_literal_returns(lambda_example()))  # Output: ['other']\n"
   ]
  },
  {
   "cell_type": "code",
   "execution_count": null,
   "metadata": {},
   "outputs": [
    {
     "name": "stdout",
     "output_type": "stream",
     "text": [
      "{'a': 'this is a variable', 42: 'this is a literal', 'hello': 'this is a string'}\n"
     ]
    }
   ],
   "source": [
    "import ast\n",
    "import inspect\n",
    "\n",
    "def get_returns_ast(func):\n",
    "    class ReturnVisitor(ast.NodeVisitor):\n",
    "        def __init__(self):\n",
    "            self.returns = {}\n",
    "\n",
    "        def visit_FunctionDef(self, node):\n",
    "            \"\"\"Handles both function definitions and lambdas.\"\"\"\n",
    "            self.generic_visit(node)  # Process child nodes\n",
    "\n",
    "        def visit_Lambda(self, node):\n",
    "            \"\"\"Handles lambda functions.\"\"\"\n",
    "            return_value = self.extract_value(node.body)\n",
    "            self.returns[return_value] = None  # Lambdas don't have doc-like comments after return\n",
    "\n",
    "        def visit_Return(self, node):\n",
    "            \"\"\"Handles return statements and collects potential trailing string literals.\"\"\"\n",
    "            return_value = self.extract_value(node.value)\n",
    "            trailing_string = self.get_trailing_string(node)\n",
    "            self.returns[return_value] = trailing_string\n",
    "\n",
    "        def extract_value(self, node):\n",
    "            \"\"\"Extracts literals or variable names from AST nodes.\"\"\"\n",
    "            if isinstance(node, ast.Constant):  # Literal values (numbers, strings, etc.)\n",
    "                return node.value\n",
    "            elif isinstance(node, ast.Name):  # Variables\n",
    "                return node.id\n",
    "            return \"<unknown>\"\n",
    "\n",
    "        def get_trailing_string(self, node):\n",
    "            \"\"\"Finds a string literal immediately following a return statement.\"\"\"\n",
    "            parent = node.parent\n",
    "            if parent:\n",
    "                body = parent.body\n",
    "                try:\n",
    "                    node_index = body.index(node)\n",
    "                except ValueError:\n",
    "                    body = parent.orelse\n",
    "                    try:\n",
    "                        node_index = body.index(node)\n",
    "                    except ValueError:\n",
    "                        print('Comment in unhandled place')\n",
    "                        return\n",
    "                if node_index + 1 < len(body):\n",
    "                    next_node = body[node_index + 1]\n",
    "                    if isinstance(next_node, ast.Expr) and isinstance(next_node.value, ast.Constant):\n",
    "                        if isinstance(next_node.value.value, str):  # Must be a string\n",
    "                            return next_node.value.value\n",
    "            return None\n",
    "\n",
    "    source = inspect.getsource(func)\n",
    "    tree = ast.parse(source)\n",
    "\n",
    "    # Set parent references for easy access\n",
    "    for node in ast.walk(tree):\n",
    "        for child in ast.iter_child_nodes(node):\n",
    "            child.parent = node\n",
    "\n",
    "    visitor = ReturnVisitor()\n",
    "    visitor.visit(tree)\n",
    "    return visitor.returns\n",
    "\n",
    "# Example function with return statements followed by strings\n",
    "def example(a=True):\n",
    "    if a == 2:\n",
    "        return a\n",
    "        'this is a variable'\n",
    "    elif a:\n",
    "        return 42\n",
    "        'this is a literal'\n",
    "    else:\n",
    "        return \"hello\"\n",
    "        'this is a string'\n",
    "\n",
    "print(get_literal_returns(example))\n",
    "# Expected Output:\n",
    "# {'a': 'this is a variable', 42: 'this is a literal', 'hello': 'this is a string'}\n"
   ]
  },
  {
   "cell_type": "code",
   "execution_count": 150,
   "metadata": {},
   "outputs": [
    {
     "ename": "AssertionError",
     "evalue": "",
     "output_type": "error",
     "traceback": [
      "\u001b[0;31m---------------------------------------------------------------------------\u001b[0m",
      "\u001b[0;31mAssertionError\u001b[0m                            Traceback (most recent call last)",
      "Cell \u001b[0;32mIn[150], line 2\u001b[0m\n\u001b[1;32m      1\u001b[0m \u001b[38;5;28;01mfrom\u001b[39;00m \u001b[38;5;21;01mstep_algorithm_v2\u001b[39;00m \u001b[38;5;28;01mimport\u001b[39;00m StepsController\n\u001b[0;32m----> 2\u001b[0m \u001b[43mStepsController\u001b[49m\u001b[43m(\u001b[49m\u001b[43m)\u001b[49m\u001b[38;5;241m.\u001b[39mconstruct_graphvis(\n\u001b[1;32m      3\u001b[0m     use_names\u001b[38;5;241m=\u001b[39m\u001b[38;5;28;01mTrue\u001b[39;00m,\n\u001b[1;32m      4\u001b[0m     disconnect_virtual\u001b[38;5;241m=\u001b[39m\u001b[38;5;28;01mTrue\u001b[39;00m,\n\u001b[1;32m      5\u001b[0m     split_ends\u001b[38;5;241m=\u001b[39m\u001b[38;5;28;01mTrue\u001b[39;00m,\n\u001b[1;32m      6\u001b[0m )\n",
      "File \u001b[0;32m~/hello/work_helper/step_algorithm_v2.py:117\u001b[0m, in \u001b[0;36mStepsController.__init__\u001b[0;34m(self, case)\u001b[0m\n\u001b[1;32m    116\u001b[0m \u001b[38;5;28;01mdef\u001b[39;00m \u001b[38;5;21m__init__\u001b[39m(\u001b[38;5;28mself\u001b[39m, case\u001b[38;5;241m=\u001b[39m\u001b[38;5;28;01mNone\u001b[39;00m):\n\u001b[0;32m--> 117\u001b[0m     \u001b[38;5;28;43msuper\u001b[39;49m\u001b[43m(\u001b[49m\u001b[43m)\u001b[49m\u001b[38;5;241;43m.\u001b[39;49m\u001b[38;5;21;43m__init__\u001b[39;49m\u001b[43m(\u001b[49m\u001b[43m)\u001b[49m\n\u001b[1;32m    118\u001b[0m     \u001b[38;5;28mself\u001b[39m\u001b[38;5;241m.\u001b[39mcase \u001b[38;5;241m=\u001b[39m case\n",
      "File \u001b[0;32m~/hello/work_helper/DynamicStateMachine.py:127\u001b[0m, in \u001b[0;36mDynamicStateMachine.__init__\u001b[0;34m(self, start_immediately, trigger_initial_side_effects)\u001b[0m\n\u001b[1;32m    124\u001b[0m \u001b[38;5;28mself\u001b[39m\u001b[38;5;241m.\u001b[39m_transitions:\u001b[38;5;28mdict\u001b[39m[State, Callable] \u001b[38;5;241m=\u001b[39m {s: t \u001b[38;5;28;01mfor\u001b[39;00m s, t \u001b[38;5;129;01min\u001b[39;00m \u001b[38;5;28mself\u001b[39m\u001b[38;5;241m.\u001b[39mtransitions}\n\u001b[1;32m    126\u001b[0m \u001b[38;5;28;01mif\u001b[39;00m start_immediately:\n\u001b[0;32m--> 127\u001b[0m     \u001b[38;5;28;43mself\u001b[39;49m\u001b[38;5;241;43m.\u001b[39;49m\u001b[43mstart\u001b[49m\u001b[43m(\u001b[49m\u001b[43m)\u001b[49m\n",
      "File \u001b[0;32m~/hello/work_helper/DynamicStateMachine.py:133\u001b[0m, in \u001b[0;36mDynamicStateMachine.start\u001b[0;34m(self)\u001b[0m\n\u001b[1;32m    131\u001b[0m \u001b[38;5;28mself\u001b[39m\u001b[38;5;241m.\u001b[39mon_start()\n\u001b[1;32m    132\u001b[0m \u001b[38;5;28;01mif\u001b[39;00m \u001b[38;5;28mself\u001b[39m\u001b[38;5;241m.\u001b[39m_trigger_initial_side_effects:\n\u001b[0;32m--> 133\u001b[0m     \u001b[38;5;28;43mself\u001b[39;49m\u001b[38;5;241;43m.\u001b[39;49m\u001b[43mstate\u001b[49m \u001b[38;5;241m=\u001b[39m \u001b[38;5;28mself\u001b[39m\u001b[38;5;241m.\u001b[39minitial\n\u001b[1;32m    134\u001b[0m \u001b[38;5;28;01melse\u001b[39;00m:\n\u001b[1;32m    135\u001b[0m     \u001b[38;5;28mself\u001b[39m\u001b[38;5;241m.\u001b[39m_state \u001b[38;5;241m=\u001b[39m \u001b[38;5;28mself\u001b[39m\u001b[38;5;241m.\u001b[39minitial\n",
      "File \u001b[0;32m~/hello/work_helper/DynamicStateMachine.py:176\u001b[0m, in \u001b[0;36mDynamicStateMachine.state\u001b[0;34m(self, new)\u001b[0m\n\u001b[1;32m    174\u001b[0m \u001b[38;5;129m@state\u001b[39m\u001b[38;5;241m.\u001b[39msetter\n\u001b[1;32m    175\u001b[0m \u001b[38;5;28;01mdef\u001b[39;00m \u001b[38;5;21mstate\u001b[39m(\u001b[38;5;28mself\u001b[39m, new:State):\n\u001b[0;32m--> 176\u001b[0m     \u001b[38;5;28;43mself\u001b[39;49m\u001b[38;5;241;43m.\u001b[39;49m\u001b[43mset_state\u001b[49m\u001b[43m(\u001b[49m\u001b[43mnew\u001b[49m\u001b[43m)\u001b[49m\n",
      "File \u001b[0;32m~/hello/work_helper/DynamicStateMachine.py:193\u001b[0m, in \u001b[0;36mDynamicStateMachine.set_state\u001b[0;34m(self, new, side_effects, *args, **kwargs)\u001b[0m\n\u001b[1;32m    189\u001b[0m     \u001b[38;5;28;01mreturn\u001b[39;00m\n\u001b[1;32m    191\u001b[0m \u001b[38;5;28;01mif\u001b[39;00m \u001b[38;5;28mtype\u001b[39m(new) \u001b[38;5;129;01mis\u001b[39;00m \u001b[38;5;28mtuple\u001b[39m:\n\u001b[1;32m    192\u001b[0m     \u001b[38;5;66;03m# TODO add texts to these\u001b[39;00m\n\u001b[0;32m--> 193\u001b[0m     \u001b[38;5;28;01massert\u001b[39;00m \u001b[38;5;28mlen\u001b[39m(new) \u001b[38;5;241m==\u001b[39m \u001b[38;5;241m2\u001b[39m\n\u001b[1;32m    194\u001b[0m     \u001b[38;5;28;01massert\u001b[39;00m \u001b[38;5;28mtype\u001b[39m(new[\u001b[38;5;241m1\u001b[39m]) \u001b[38;5;129;01mis\u001b[39;00m \u001b[38;5;28mstr\u001b[39m\n\u001b[1;32m    195\u001b[0m     new \u001b[38;5;241m=\u001b[39m new[\u001b[38;5;241m0\u001b[39m]\n",
      "\u001b[0;31mAssertionError\u001b[0m: "
     ]
    }
   ],
   "source": [
    "from step_algorithm_v2 import StepsController\n",
    "StepsController().construct_graphvis(\n",
    "    use_names=True,\n",
    "    disconnect_virtual=True,\n",
    "    split_ends=True,\n",
    ")"
   ]
  },
  {
   "cell_type": "code",
   "execution_count": 151,
   "metadata": {},
   "outputs": [
    {
     "name": "stderr",
     "output_type": "stream",
     "text": [
      "264743.47s - pydevd: Sending message related to process being replaced timed-out after 5 seconds\n"
     ]
    },
    {
     "name": "stdout",
     "output_type": "stream",
     "text": [
      "Collecting qrcode\n",
      "  Downloading qrcode-8.0-py3-none-any.whl.metadata (17 kB)\n",
      "Downloading qrcode-8.0-py3-none-any.whl (45 kB)\n",
      "Installing collected packages: qrcode\n",
      "Successfully installed qrcode-8.0\n",
      "Note: you may need to restart the kernel to use updated packages.\n"
     ]
    }
   ],
   "source": [
    "%pip install qrcode"
   ]
  },
  {
   "cell_type": "code",
   "execution_count": 152,
   "metadata": {},
   "outputs": [
    {
     "name": "stdout",
     "output_type": "stream",
     "text": [
      "                                     \n",
      "                                     \n",
      "    █▀▀▀▀▀█ ▄▀▀▄█▀▀█  ▀ ▄ █▀▀▀▀▀█    \n",
      "    █ ███ █ █▄██▀ █▄▀▄▄██ █ ███ █    \n",
      "    █ ▀▀▀ █  ▀▀▄▄██▀▄█▀▀█ █ ▀▀▀ █    \n",
      "    ▀▀▀▀▀▀▀ █▄▀ █▄▀ ▀ ▀▄▀ ▀▀▀▀▀▀▀    \n",
      "    ▀ ▄ ▄▄▀▄▀▀▄▀▄ █▀ ▀▄▄ ▀▀ ▄▀██     \n",
      "    ▄▀█▀██▀▄█▀▄██ ▄▄▄ ▀▄▄ █▀ ▄       \n",
      "      ▀▄▄█▀▀ █▄▀ ██   ▄▄▀ ██▄  ▄█    \n",
      "    ▄▄ ██▀▀▄ █  ███▀█▀▀  ██▄ ▀█ ▄    \n",
      "    ▄  ▄█▀▀██▀▄ █ ▀▀▄▀▄▄█▄▄▄▄▀█▄▄    \n",
      "    █▀█▀ ▄▀ ▄▄ ██▀█▄█ ▀█▄▀█ ▀▀  ▀    \n",
      "    ▀ ▀ ▀▀▀▀█ █ ▀▄  ▄▀▀▀█▀▀▀█▄▀▀▀    \n",
      "    █▀▀▀▀▀█  █ ▄ █▀█▄ ▄██ ▀ █▀▀▄▄    \n",
      "    █ ███ █  █▀ ▄█ █ ▄▀▀██▀▀▀█▄▄     \n",
      "    █ ▀▀▀ █   ▄▄▄▄▄▀█ █  █▀▀███▀▄    \n",
      "    ▀▀▀▀▀▀▀ ▀  ▀▀ ▀▀▀▀▀▀  ▀▀  ▀      \n",
      "                                     \n",
      "                                     \n",
      "\n"
     ]
    }
   ],
   "source": [
    "import io\n",
    "import qrcode\n",
    "qr = qrcode.QRCode()\n",
    "qr.add_data(\"https://link.irobot.com/acc4816\")\n",
    "f = io.StringIO()\n",
    "qr.print_ascii(out=f)\n",
    "f.seek(0)\n",
    "print(f.read())"
   ]
  }
 ],
 "metadata": {
  "kernelspec": {
   "display_name": "base",
   "language": "python",
   "name": "python3"
  },
  "language_info": {
   "codemirror_mode": {
    "name": "ipython",
    "version": 3
   },
   "file_extension": ".py",
   "mimetype": "text/x-python",
   "name": "python",
   "nbconvert_exporter": "python",
   "pygments_lexer": "ipython3",
   "version": "3.12.2"
  }
 },
 "nbformat": 4,
 "nbformat_minor": 2
}
